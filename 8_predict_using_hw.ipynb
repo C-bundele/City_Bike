{
 "cells": [
  {
   "cell_type": "code",
   "execution_count": 2,
   "id": "c52f3951",
   "metadata": {},
   "outputs": [],
   "source": [
    "from dotenv import load_dotenv\n",
    "load_dotenv() \n",
    "\n",
    "import sys\n",
    "import os\n",
    "\n",
    "# Add the parent directory to the Python path\n",
    "sys.path.append(os.path.abspath(os.path.join(os.getcwd(), \"..\")))\n",
    "import src.config as config"
   ]
  },
  {
   "cell_type": "code",
   "execution_count": 3,
   "id": "9183b195",
   "metadata": {},
   "outputs": [
    {
     "name": "stderr",
     "output_type": "stream",
     "text": [
      "c:\\Users\\chanc\\anaconda3\\envs\\cityB\\Lib\\site-packages\\tqdm\\auto.py:21: TqdmWarning: IProgress not found. Please update jupyter and ipywidgets. See https://ipywidgets.readthedocs.io/en/stable/user_install.html\n",
      "  from .autonotebook import tqdm as notebook_tqdm\n"
     ]
    }
   ],
   "source": [
    "from src.inference import get_feature_store"
   ]
  },
  {
   "cell_type": "code",
   "execution_count": 4,
   "id": "fb01e10f",
   "metadata": {},
   "outputs": [
    {
     "name": "stdout",
     "output_type": "stream",
     "text": [
      "2025-05-10 10:48:22,156 INFO: Initializing external client\n",
      "2025-05-10 10:48:22,158 INFO: Base URL: https://c.app.hopsworks.ai:443\n",
      "2025-05-10 10:48:23,464 INFO: Python Engine initialized.\n",
      "\n",
      "Logged in to project, explore it here https://c.app.hopsworks.ai:443/p/1230996\n"
     ]
    }
   ],
   "source": [
    "feature_store = get_feature_store()"
   ]
  },
  {
   "cell_type": "code",
   "execution_count": 5,
   "id": "7468225d",
   "metadata": {},
   "outputs": [
    {
     "name": "stdout",
     "output_type": "stream",
     "text": [
      "2025-05-10 10:48:27,299 INFO: Closing external client and cleaning up certificates.\n",
      "Connection closed.\n",
      "2025-05-10 10:48:27,309 INFO: Initializing external client\n",
      "2025-05-10 10:48:27,310 INFO: Base URL: https://c.app.hopsworks.ai:443\n",
      "2025-05-10 10:48:28,043 INFO: Python Engine initialized.\n",
      "\n",
      "Logged in to project, explore it here https://c.app.hopsworks.ai:443/p/1230996\n",
      "Fetching data from 2025-04-11 10:48:27.298314 to 2025-05-10 09:48:27.298314\n"
     ]
    },
    {
     "ename": "AttributeError",
     "evalue": "'NoneType' object has no attribute 'get_batch_data'",
     "output_type": "error",
     "traceback": [
      "\u001b[31m---------------------------------------------------------------------------\u001b[39m",
      "\u001b[31mAttributeError\u001b[39m                            Traceback (most recent call last)",
      "\u001b[36mCell\u001b[39m\u001b[36m \u001b[39m\u001b[32mIn[5]\u001b[39m\u001b[32m, line 16\u001b[39m\n\u001b[32m     11\u001b[39m \u001b[38;5;28mprint\u001b[39m(\u001b[33mf\u001b[39m\u001b[33m\"\u001b[39m\u001b[33mFetching data from \u001b[39m\u001b[38;5;132;01m{\u001b[39;00mfetch_data_from\u001b[38;5;132;01m}\u001b[39;00m\u001b[33m to \u001b[39m\u001b[38;5;132;01m{\u001b[39;00mfetch_data_to\u001b[38;5;132;01m}\u001b[39;00m\u001b[33m\"\u001b[39m)\n\u001b[32m     12\u001b[39m feature_view = feature_store.get_feature_view(\n\u001b[32m     13\u001b[39m     name=config.FEATURE_VIEW_NAME, version=config.FEATURE_VIEW_VERSION\n\u001b[32m     14\u001b[39m )\n\u001b[32m---> \u001b[39m\u001b[32m16\u001b[39m ts_data = \u001b[43mfeature_view\u001b[49m\u001b[43m.\u001b[49m\u001b[43mget_batch_data\u001b[49m(\n\u001b[32m     17\u001b[39m     start_time=(fetch_data_from - timedelta(days=\u001b[32m1\u001b[39m)),\n\u001b[32m     18\u001b[39m     end_time=(fetch_data_to + timedelta(days=\u001b[32m1\u001b[39m)),\n\u001b[32m     19\u001b[39m )\n\u001b[32m     20\u001b[39m \u001b[38;5;66;03m# Ensure fetch_data_from and fetch_data_to are timezone-aware to match ts_data.pickup_hour\u001b[39;00m\n\u001b[32m     21\u001b[39m fetch_data_from = fetch_data_from.tz_localize(\u001b[38;5;28;01mNone\u001b[39;00m)\n",
      "\u001b[31mAttributeError\u001b[39m: 'NoneType' object has no attribute 'get_batch_data'"
     ]
    }
   ],
   "source": [
    "from datetime import datetime, timedelta\n",
    "import pandas as pd  \n",
    "\n",
    "\n",
    "current_date = pd.Timestamp.now()\n",
    "feature_store = get_feature_store()\n",
    "\n",
    "# read time-series data from the feature store\n",
    "fetch_data_to = current_date - timedelta(hours=1)\n",
    "fetch_data_from = current_date - timedelta(days=1*29)\n",
    "print(f\"Fetching data from {fetch_data_from} to {fetch_data_to}\")\n",
    "feature_view = feature_store.get_feature_view(\n",
    "    name=config.FEATURE_VIEW_NAME, version=config.FEATURE_VIEW_VERSION\n",
    ")\n",
    "\n",
    "ts_data = feature_view.get_batch_data(\n",
    "    start_time=(fetch_data_from - timedelta(days=1)),\n",
    "    end_time=(fetch_data_to + timedelta(days=1)),\n",
    ")\n",
    "# Ensure fetch_data_from and fetch_data_to are timezone-aware to match ts_data.pickup_hour\n",
    "fetch_data_from = fetch_data_from.tz_localize(None)\n",
    "fetch_data_to = fetch_data_to.tz_localize(None)\n",
    "ts_data.pickup_hour = ts_data.pickup_hour.dt.tz_localize(None)\n",
    "ts_data = ts_data[ts_data.pickup_hour.between(fetch_data_from, fetch_data_to)]"
   ]
  },
  {
   "cell_type": "code",
   "execution_count": null,
   "id": "4813ce94",
   "metadata": {},
   "outputs": [
    {
     "data": {
      "text/html": [
       "<div>\n",
       "<style scoped>\n",
       "    .dataframe tbody tr th:only-of-type {\n",
       "        vertical-align: middle;\n",
       "    }\n",
       "\n",
       "    .dataframe tbody tr th {\n",
       "        vertical-align: top;\n",
       "    }\n",
       "\n",
       "    .dataframe thead th {\n",
       "        text-align: right;\n",
       "    }\n",
       "</style>\n",
       "<table border=\"1\" class=\"dataframe\">\n",
       "  <thead>\n",
       "    <tr style=\"text-align: right;\">\n",
       "      <th></th>\n",
       "      <th>pickup_hour</th>\n",
       "      <th>station_id</th>\n",
       "      <th>rides</th>\n",
       "    </tr>\n",
       "  </thead>\n",
       "  <tbody>\n",
       "    <tr>\n",
       "      <th>0</th>\n",
       "      <td>2025-04-12 06:00:00</td>\n",
       "      <td>HB101</td>\n",
       "      <td>2</td>\n",
       "    </tr>\n",
       "    <tr>\n",
       "      <th>1</th>\n",
       "      <td>2025-04-12 12:00:00</td>\n",
       "      <td>HB101</td>\n",
       "      <td>16</td>\n",
       "    </tr>\n",
       "    <tr>\n",
       "      <th>2</th>\n",
       "      <td>2025-04-12 18:00:00</td>\n",
       "      <td>HB101</td>\n",
       "      <td>18</td>\n",
       "    </tr>\n",
       "    <tr>\n",
       "      <th>3</th>\n",
       "      <td>2025-04-13 00:00:00</td>\n",
       "      <td>HB101</td>\n",
       "      <td>10</td>\n",
       "    </tr>\n",
       "    <tr>\n",
       "      <th>4</th>\n",
       "      <td>2025-04-13 06:00:00</td>\n",
       "      <td>HB101</td>\n",
       "      <td>13</td>\n",
       "    </tr>\n",
       "    <tr>\n",
       "      <th>...</th>\n",
       "      <td>...</td>\n",
       "      <td>...</td>\n",
       "      <td>...</td>\n",
       "    </tr>\n",
       "    <tr>\n",
       "      <th>331</th>\n",
       "      <td>2025-05-09 00:00:00</td>\n",
       "      <td>HB305</td>\n",
       "      <td>1</td>\n",
       "    </tr>\n",
       "    <tr>\n",
       "      <th>332</th>\n",
       "      <td>2025-05-09 06:00:00</td>\n",
       "      <td>HB305</td>\n",
       "      <td>11</td>\n",
       "    </tr>\n",
       "    <tr>\n",
       "      <th>333</th>\n",
       "      <td>2025-05-09 12:00:00</td>\n",
       "      <td>HB305</td>\n",
       "      <td>28</td>\n",
       "    </tr>\n",
       "    <tr>\n",
       "      <th>334</th>\n",
       "      <td>2025-05-09 18:00:00</td>\n",
       "      <td>HB305</td>\n",
       "      <td>3</td>\n",
       "    </tr>\n",
       "    <tr>\n",
       "      <th>335</th>\n",
       "      <td>2025-05-10 00:00:00</td>\n",
       "      <td>HB305</td>\n",
       "      <td>2</td>\n",
       "    </tr>\n",
       "  </tbody>\n",
       "</table>\n",
       "<p>336 rows × 3 columns</p>\n",
       "</div>"
      ],
      "text/plain": [
       "            pickup_hour station_id  rides\n",
       "0   2025-04-12 06:00:00      HB101      2\n",
       "1   2025-04-12 12:00:00      HB101     16\n",
       "2   2025-04-12 18:00:00      HB101     18\n",
       "3   2025-04-13 00:00:00      HB101     10\n",
       "4   2025-04-13 06:00:00      HB101     13\n",
       "..                  ...        ...    ...\n",
       "331 2025-05-09 00:00:00      HB305      1\n",
       "332 2025-05-09 06:00:00      HB305     11\n",
       "333 2025-05-09 12:00:00      HB305     28\n",
       "334 2025-05-09 18:00:00      HB305      3\n",
       "335 2025-05-10 00:00:00      HB305      2\n",
       "\n",
       "[336 rows x 3 columns]"
      ]
     },
     "execution_count": 50,
     "metadata": {},
     "output_type": "execute_result"
    }
   ],
   "source": [
    "ts_data.sort_values([\"station_id\", \"pickup_hour\"]).reset_index(drop=True)"
   ]
  },
  {
   "cell_type": "code",
   "execution_count": 51,
   "id": "e263f4cc",
   "metadata": {},
   "outputs": [
    {
     "data": {
      "text/html": [
       "<div>\n",
       "<style scoped>\n",
       "    .dataframe tbody tr th:only-of-type {\n",
       "        vertical-align: middle;\n",
       "    }\n",
       "\n",
       "    .dataframe tbody tr th {\n",
       "        vertical-align: top;\n",
       "    }\n",
       "\n",
       "    .dataframe thead th {\n",
       "        text-align: right;\n",
       "    }\n",
       "</style>\n",
       "<table border=\"1\" class=\"dataframe\">\n",
       "  <thead>\n",
       "    <tr style=\"text-align: right;\">\n",
       "      <th></th>\n",
       "      <th>pickup_hour</th>\n",
       "      <th>station_id</th>\n",
       "      <th>rides</th>\n",
       "    </tr>\n",
       "  </thead>\n",
       "  <tbody>\n",
       "    <tr>\n",
       "      <th>0</th>\n",
       "      <td>2025-05-02 12:00:00</td>\n",
       "      <td>HB105</td>\n",
       "      <td>32</td>\n",
       "    </tr>\n",
       "    <tr>\n",
       "      <th>1</th>\n",
       "      <td>2025-04-25 00:00:00</td>\n",
       "      <td>HB105</td>\n",
       "      <td>4</td>\n",
       "    </tr>\n",
       "    <tr>\n",
       "      <th>2</th>\n",
       "      <td>2025-04-21 18:00:00</td>\n",
       "      <td>HB101</td>\n",
       "      <td>31</td>\n",
       "    </tr>\n",
       "    <tr>\n",
       "      <th>3</th>\n",
       "      <td>2025-04-19 06:00:00</td>\n",
       "      <td>HB101</td>\n",
       "      <td>2</td>\n",
       "    </tr>\n",
       "    <tr>\n",
       "      <th>4</th>\n",
       "      <td>2025-05-09 06:00:00</td>\n",
       "      <td>HB101</td>\n",
       "      <td>7</td>\n",
       "    </tr>\n",
       "    <tr>\n",
       "      <th>...</th>\n",
       "      <td>...</td>\n",
       "      <td>...</td>\n",
       "      <td>...</td>\n",
       "    </tr>\n",
       "    <tr>\n",
       "      <th>331</th>\n",
       "      <td>2025-04-17 12:00:00</td>\n",
       "      <td>HB105</td>\n",
       "      <td>20</td>\n",
       "    </tr>\n",
       "    <tr>\n",
       "      <th>332</th>\n",
       "      <td>2025-05-08 18:00:00</td>\n",
       "      <td>HB101</td>\n",
       "      <td>23</td>\n",
       "    </tr>\n",
       "    <tr>\n",
       "      <th>333</th>\n",
       "      <td>2025-05-02 06:00:00</td>\n",
       "      <td>HB305</td>\n",
       "      <td>19</td>\n",
       "    </tr>\n",
       "    <tr>\n",
       "      <th>334</th>\n",
       "      <td>2025-05-07 06:00:00</td>\n",
       "      <td>HB105</td>\n",
       "      <td>17</td>\n",
       "    </tr>\n",
       "    <tr>\n",
       "      <th>335</th>\n",
       "      <td>2025-04-20 12:00:00</td>\n",
       "      <td>HB105</td>\n",
       "      <td>29</td>\n",
       "    </tr>\n",
       "  </tbody>\n",
       "</table>\n",
       "<p>336 rows × 3 columns</p>\n",
       "</div>"
      ],
      "text/plain": [
       "            pickup_hour station_id  rides\n",
       "0   2025-05-02 12:00:00      HB105     32\n",
       "1   2025-04-25 00:00:00      HB105      4\n",
       "2   2025-04-21 18:00:00      HB101     31\n",
       "3   2025-04-19 06:00:00      HB101      2\n",
       "4   2025-05-09 06:00:00      HB101      7\n",
       "..                  ...        ...    ...\n",
       "331 2025-04-17 12:00:00      HB105     20\n",
       "332 2025-05-08 18:00:00      HB101     23\n",
       "333 2025-05-02 06:00:00      HB305     19\n",
       "334 2025-05-07 06:00:00      HB105     17\n",
       "335 2025-04-20 12:00:00      HB105     29\n",
       "\n",
       "[336 rows x 3 columns]"
      ]
     },
     "execution_count": 51,
     "metadata": {},
     "output_type": "execute_result"
    }
   ],
   "source": [
    "ts_data"
   ]
  },
  {
   "cell_type": "code",
   "execution_count": 1,
   "id": "1ef0da47",
   "metadata": {},
   "outputs": [
    {
     "ename": "NameError",
     "evalue": "name 'ts_data' is not defined",
     "output_type": "error",
     "traceback": [
      "\u001b[31m---------------------------------------------------------------------------\u001b[39m",
      "\u001b[31mNameError\u001b[39m                                 Traceback (most recent call last)",
      "\u001b[36mCell\u001b[39m\u001b[36m \u001b[39m\u001b[32mIn[1]\u001b[39m\u001b[32m, line 3\u001b[39m\n\u001b[32m      1\u001b[39m \u001b[38;5;28;01mfrom\u001b[39;00m\u001b[38;5;250m \u001b[39m\u001b[34;01msrc\u001b[39;00m\u001b[34;01m.\u001b[39;00m\u001b[34;01mdata_utils\u001b[39;00m\u001b[38;5;250m \u001b[39m\u001b[38;5;28;01mimport\u001b[39;00m transform_ts_data_info_features_and_target\n\u001b[32m----> \u001b[39m\u001b[32m3\u001b[39m features , _ = transform_ts_data_info_features_and_target(\u001b[43mts_data\u001b[49m, window_size=\u001b[32m28\u001b[39m, step_size=\u001b[32m23\u001b[39m)\n",
      "\u001b[31mNameError\u001b[39m: name 'ts_data' is not defined"
     ]
    }
   ],
   "source": [
    "from src.data_utils import transform_ts_data_info_features_and_target\n",
    "\n",
    "features , _ = transform_ts_data_info_features_and_target(ts_data, window_size=28, step_size=23)"
   ]
  }
 ],
 "metadata": {
  "kernelspec": {
   "display_name": "cityB",
   "language": "python",
   "name": "python3"
  },
  "language_info": {
   "codemirror_mode": {
    "name": "ipython",
    "version": 3
   },
   "file_extension": ".py",
   "mimetype": "text/x-python",
   "name": "python",
   "nbconvert_exporter": "python",
   "pygments_lexer": "ipython3",
   "version": "3.11.11"
  }
 },
 "nbformat": 4,
 "nbformat_minor": 5
}
